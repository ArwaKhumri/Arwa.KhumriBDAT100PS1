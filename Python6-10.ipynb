{
 "cells": [
  {
   "cell_type": "markdown",
   "metadata": {},
   "source": [
    "##q6Write a function pig() that takes a word (i.e., a string) as input and returns its pig- Latin form. Your function should still work if the input word contains upper case characters. Your output should always be lower case however."
   ]
  },
  {
   "cell_type": "code",
   "execution_count": 29,
   "metadata": {},
   "outputs": [
    {
     "name": "stdout",
     "output_type": "stream",
     "text": [
      "arwaway\n"
     ]
    }
   ],
   "source": [
    "#ans6\n",
    "\n",
    "def pig(a):\n",
    "    a=a.lower()\n",
    "    first=a[0]\n",
    "    vowel=\"aeiouAEIOU\"\n",
    "    if first in vowel:\n",
    "            print(a + 'way') \n",
    "    else:\n",
    "        print(a[1:] + a[0] + 'ay')\n",
    "\n",
    "pig('ARWA')"
   ]
  },
  {
   "cell_type": "markdown",
   "metadata": {},
   "source": [
    "##q7 File bloodtype1.txt records blood-types of patients (A, B, AB, O or OO) at a clinic. Write a function bldcount() that reads the file with name name and reports (i.e., prints) how many patients there are in each bloodtype."
   ]
  },
  {
   "cell_type": "code",
   "execution_count": 22,
   "metadata": {},
   "outputs": [
    {
     "name": "stdout",
     "output_type": "stream",
     "text": [
      "There are 15 patients in blood group A\n",
      "There are 1 patients in blood group B\n",
      "There are 15 patients in blood group O\n",
      "There are 0 patients in blood group OO\n",
      "There are 5 patients in blood group AB\n"
     ]
    }
   ],
   "source": [
    "#Ans7\n",
    "\n",
    "def bldcount():\n",
    "    f = open(\"Bloodtype\", \"r\")\n",
    "    bloodgroup=f.readline()\n",
    "    bloodgroup= bloodgroup.split(' ')\n",
    "    #print(bloodgroup)\n",
    "    bldA= 0\n",
    "    bldB=0\n",
    "    bldO=0\n",
    "    bldOO=0\n",
    "    bldAB=0\n",
    "\n",
    "    for i in bloodgroup:\n",
    "        if (i == 'A'):\n",
    "            bldA+=1\n",
    "        elif (i == 'B'):\n",
    "            bldB+=1\n",
    "        elif (i == 'O'):\n",
    "            bldO+=1\n",
    "        elif (i == 'OO'):\n",
    "            bldOO+=1\n",
    "        elif(i == 'Ab'):\n",
    "            bldAB+=1\n",
    "    print('There are %d patients in blood group A' %bldA)\n",
    "    print('There are %d patients in blood group B' %bldB)\n",
    "    print('There are %d patients in blood group O' %bldO)\n",
    "    print('There are %d patients in blood group OO' %bldOO)\n",
    "    print('There are %d patients in blood group AB' %bldAB)\n",
    "bldcount()"
   ]
  },
  {
   "cell_type": "markdown",
   "metadata": {},
   "source": [
    "##Q8 Write a function curconv() that takes as input:\n",
    "###1. a currency represented using a string (e.g., 'JPY' for the Japanese Yen or 'EUR' for the Euro)\n",
    "##2. an amount\n",
    "##and then converts and returns the amount in US dollars"
   ]
  },
  {
   "cell_type": "code",
   "execution_count": 23,
   "metadata": {},
   "outputs": [
    {
     "name": "stdout",
     "output_type": "stream",
     "text": [
      "USD is  1.77643\n"
     ]
    }
   ],
   "source": [
    "##Ans8\n",
    "\n",
    "def curconv(x,amnt):\n",
    "   ## x=input(\"\")\n",
    "    y=x.upper()\n",
    "    ##amnt=int(input(\"\"))\n",
    "    with open('currency.txt','r') as file:  \n",
    "          for line in file:\n",
    "            for word in line.split():\n",
    "                  if (word == y):\n",
    "                    lines=line.split()\n",
    "            \n",
    "    value=float(lines[1])\n",
    "    total=amnt*value\n",
    "    print(\"USD is \",total)\n",
    "\n",
    "\n",
    "\n",
    "curconv('INR',100)"
   ]
  },
  {
   "cell_type": "markdown",
   "metadata": {},
   "source": [
    "##q9 Each of the following will cause an exception (an error). Identify what type of exception each will cause."
   ]
  },
  {
   "cell_type": "code",
   "execution_count": 24,
   "metadata": {},
   "outputs": [
    {
     "name": "stdout",
     "output_type": "stream",
     "text": [
      "Error 1:  unsupported operand type(s) for +: 'int' and 'str'\n",
      "Error 2:  list index out of range\n",
      "Error 3:  math domain error\n",
      "Error 4:  name 'x' is not defined\n",
      "Error 4:  [Errno 2] No such file or directory: 'arwa.txt'\n"
     ]
    }
   ],
   "source": [
    "##q9\n",
    "\n",
    "import math\n",
    "\n",
    "try:\n",
    "    a=6+'a'\n",
    "except Exception as e:\n",
    "    print('Error 1: ',e)\n",
    "    \n",
    "try:\n",
    "    b=[1,2,3,4,5,6,7,8,9,10]\n",
    "    print(b[12])\n",
    "except Exception as e:\n",
    "    print('Error 2: ',e)\n",
    "try:\n",
    "    c=math.sqrt(-1.0)\n",
    "except Exception as e:\n",
    "    print('Error 3: ',e)\n",
    "try:\n",
    "    d=print(x)\n",
    "except Exception as e:\n",
    "    print('Error 4: ',e)\n",
    "try:\n",
    "    e=open('arwa.txt')\n",
    "except Exception as e:\n",
    "    print('Error 4: ',e)\n"
   ]
  },
  {
   "cell_type": "markdown",
   "metadata": {},
   "source": [
    "##Q10 Write a function called frequencies() that takes a string as its only parameter, and returns a list of integers, showing the number of times each character appears in the text. Your function may ignore any characters that are not in letters."
   ]
  },
  {
   "cell_type": "code",
   "execution_count": 26,
   "metadata": {},
   "outputs": [
    {
     "name": "stdout",
     "output_type": "stream",
     "text": [
      "Enter a word: arwa\n",
      "[2, 0, 0, 0, 0, 0, 0, 0, 0, 0, 0, 0, 0, 0, 0, 0, 0, 1, 0, 0, 0, 0, 1, 0, 0, 0]\n"
     ]
    }
   ],
   "source": [
    "##q10\n",
    "word = input(\"Enter a word: \")\n",
    "ans=[]\n",
    "\n",
    "Alphabet=['a','b','c','d','e','f','g','h','i','j','k','l','m','n','o','p','q','r','s','t','u','v','w','x','y','z']\n",
    "\n",
    "for i in range(0,26):\n",
    "    ##print(word.count(Alphabet[i]))\n",
    "    ans.append(word.count(Alphabet[i]))\n",
    "print(ans)"
   ]
  }
 ],
 "metadata": {
  "kernelspec": {
   "display_name": "Python 3",
   "language": "python",
   "name": "python3"
  },
  "language_info": {
   "codemirror_mode": {
    "name": "ipython",
    "version": 3
   },
   "file_extension": ".py",
   "mimetype": "text/x-python",
   "name": "python",
   "nbconvert_exporter": "python",
   "pygments_lexer": "ipython3",
   "version": "3.7.0"
  }
 },
 "nbformat": 4,
 "nbformat_minor": 2
}
